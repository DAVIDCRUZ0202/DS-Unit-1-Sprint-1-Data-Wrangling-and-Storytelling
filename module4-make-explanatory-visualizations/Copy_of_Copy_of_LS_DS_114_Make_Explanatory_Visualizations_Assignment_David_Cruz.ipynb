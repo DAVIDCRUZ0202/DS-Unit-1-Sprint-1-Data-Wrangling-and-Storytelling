{
  "nbformat": 4,
  "nbformat_minor": 0,
  "metadata": {
    "colab": {
      "name": "Copy of Copy of LS_DS_114_Make_Explanatory_Visualizations_Assignment_David_Cruz.ipynb",
      "provenance": [],
      "collapsed_sections": [],
      "include_colab_link": true
    },
    "language_info": {
      "codemirror_mode": {
        "name": "ipython",
        "version": 3
      },
      "file_extension": ".py",
      "mimetype": "text/x-python",
      "name": "python",
      "nbconvert_exporter": "python",
      "pygments_lexer": "ipython3",
      "version": "3.7.1"
    },
    "kernelspec": {
      "display_name": "Python 3",
      "language": "python",
      "name": "python3"
    }
  },
  "cells": [
    {
      "cell_type": "markdown",
      "metadata": {
        "id": "view-in-github",
        "colab_type": "text"
      },
      "source": [
        "<a href=\"https://colab.research.google.com/github/DAVIDCRUZ0202/DS-Unit-1-Sprint-1-Data-Wrangling-and-Storytelling/blob/master/module4-make-explanatory-visualizations/Copy_of_Copy_of_LS_DS_114_Make_Explanatory_Visualizations_Assignment_David_Cruz.ipynb\" target=\"_parent\"><img src=\"https://colab.research.google.com/assets/colab-badge.svg\" alt=\"Open In Colab\"/></a>"
      ]
    },
    {
      "cell_type": "markdown",
      "metadata": {
        "colab_type": "text",
        "id": "NMEswXWh9mqw"
      },
      "source": [
        "Lambda School Data Science\n",
        "\n",
        "*Unit 1, Sprint 1, Module 4*\n",
        "\n",
        "---\n",
        "\n",
        "# ASSIGNMENT\n",
        "\n",
        "### 1) Replicate the lesson code. I recommend that you [do not copy-paste](https://docs.google.com/document/d/1ubOw9B3Hfip27hF2ZFnW3a3z9xAgrUDRReOEo-FHCVs/edit).\n",
        "\n",
        "Get caught up to where we got our example in class and then try and take things further. How close to \"pixel perfect\" can you make the lecture graph?\n",
        "\n",
        "Once you have something that you're proud of, share your graph in the cohort channel and move on to the second exercise.\n",
        "\n",
        "### 2) Reproduce another example from [FiveThityEight's shared data repository](https://data.fivethirtyeight.com/).\n",
        "\n",
        "**WARNING**: There are a lot of very custom graphs and tables at the above link. I **highly** recommend not trying to reproduce any that look like a table of values or something really different from the graph types that we are already familiar with. Search through the posts until you find a graph type that you are more or less familiar with: histogram, bar chart, stacked bar chart, line chart, [seaborn relplot](https://seaborn.pydata.org/generated/seaborn.relplot.html), etc. Recreating some of the graphics that 538 uses would be a lot easier in Adobe photoshop/illustrator than with matplotlib. \n",
        "\n",
        "- If you put in some time to find a graph that looks \"easy\" to replicate you'll probably find that it's not as easy as you thought. \n",
        "\n",
        "- If you start with a graph that looks hard to replicate you'll probably run up against a brick wall and be disappointed with your afternoon.\n",
        "\n",
        "\n",
        "\n",
        "\n",
        "\n",
        "\n",
        "\n",
        "\n",
        "\n",
        "\n"
      ]
    },
    {
      "cell_type": "code",
      "metadata": {
        "id": "7SY1ZHawyZvz",
        "colab_type": "code",
        "colab": {}
      },
      "source": [
        "# Your Work Here\n",
        "%matplotlib inline\n",
        "\n",
        "import numpy as np\n",
        "import matplotlib.pyplot as plt\n",
        "import pandas as pd\n",
        "\n",
        "fake = pd.Series([38, 3, 2, 1, 2, 4, 6, 5, 5, 33],\n",
        "                 index=range(1,11))"
      ],
      "execution_count": 0,
      "outputs": []
    },
    {
      "cell_type": "code",
      "metadata": {
        "id": "8OQs8Eh_a8NY",
        "colab_type": "code",
        "outputId": "0f1096dc-0915-4011-fa33-b79b963e3e1c",
        "colab": {
          "base_uri": "https://localhost:8080/",
          "height": 375
        }
      },
      "source": [
        "plt.style.use('fivethirtyeight')\n",
        "\n",
        "fig, ax = plt.subplots()\n",
        "\n",
        "fig.set_facecolor('white')\n",
        "\n",
        "ax.bar(x=range(1,11,1), height=fake, color= '#ED713A', width=.91)\n",
        "\n",
        "ax.set_facecolor('white')\n",
        "\n",
        "ax.set_xticks(range(1,11,1))\n",
        "ax.set_xticklabels(range(1,11,1), fontsize=8, fontweight='book', color='grey')\n",
        "\n",
        "ax.set_yticks(range(0, 41, 10))\n",
        "ax.set_yticklabels([0, 10, 20, 30, \"40%\"], fontsize=8, fontweight='book', color='grey')\n",
        "\n",
        "ax.set_xlabel('Rating', fontsize=9, fontweight='bold')\n",
        "ax.set_ylabel('Percent of total votes', fontsize=9, fontweight='bold')\n",
        "\n",
        "ax.set_title(\"'An Inconvenient Sequel: Truth to Power' is divisive\", fontsize=12,\n",
        "             fontweight='bold', x=.35, y=1.15)\n",
        "ax.text(x=-1.1, y=44, s='IMDb ratings for the film as of Aug. 29', fontsize=10.5)\n",
        "\n",
        "ax.text(x=9.1, y=-10, s='Source: IMDb', fontsize=8.5\n",
        "        , fontweight='book', color='grey')\n",
        "\n",
        "ax.text(x=-1.1, y=-10, s='FiveThirtyEight', fontsize=8.5\n",
        "        , fontweight='book', color='grey')\n",
        "\n",
        "ax.text(x=-1.1, y=-8., s='___________________________________________________________________________________________________', fontsize=8.5\n",
        "        , fontweight='book', color='grey')\n",
        "\n",
        "ax.spines['left'].set_visible(False)\n",
        "ax.spines['right'].set_visible(False)\n",
        "ax.spines['top'].set_visible(False)\n",
        "\n",
        "plt.show()"
      ],
      "execution_count": 0,
      "outputs": [
        {
          "output_type": "display_data",
          "data": {
            "image/png": "[encoded data removed]",
            "text/plain": [
              "<Figure size 432x288 with 1 Axes>"
            ]
          },
          "metadata": {
            "tags": []
          }
        }
      ]
    },
    {
      "cell_type": "code",
      "metadata": {
        "id": "HDEeXxBccUNg",
        "colab_type": "code",
        "outputId": "914a89f1-21b3-47e4-cd62-c22d5e2cffe0",
        "colab": {
          "base_uri": "https://localhost:8080/",
          "height": 355
        }
      },
      "source": [
        "from IPython.display import display, Image\n",
        "\n",
        "url = 'https://fivethirtyeight.com/wp-content/uploads/2017/09/mehtahickey-inconvenient-0830-1.png'\n",
        "example = Image(url=url, width=400)\n",
        "\n",
        "display(example)"
      ],
      "execution_count": 0,
      "outputs": [
        {
          "output_type": "display_data",
          "data": {
            "text/html": [
              "<img src=\"https://fivethirtyeight.com/wp-content/uploads/2017/09/mehtahickey-inconvenient-0830-1.png\" width=\"400\"/>"
            ],
            "text/plain": [
              "<IPython.core.display.Image object>"
            ]
          },
          "metadata": {
            "tags": []
          }
        }
      ]
    },
    {
      "cell_type": "code",
      "metadata": {
        "id": "lzR1nPUajeLG",
        "colab_type": "code",
        "outputId": "e26a8847-039f-48b5-a609-472269c0b6a0",
        "colab": {
          "base_uri": "https://localhost:8080/",
          "height": 382
        }
      },
      "source": [
        "# headband = pd.Series([2008, 2009, 2010, 2011, 2012, 2013, 2014, 2015, 2016, 2017, 2018, 2019],\n",
        "#                  index=range(1,13,1))\n",
        "\n",
        "headband = pd.DataFrame({'headband': [15, 15, 12, 12, 12, 9, 4, 6, 6, 6, 4, 13]})\n",
        "\n",
        "plt.style.use('fivethirtyeight')\n",
        "\n",
        "fig, ax = plt.subplots()\n",
        "\n",
        "ax.barh(y=['2019', '2018', '2017', '2016', '2015', '2014', '2013', '2012', '2011', \n",
        "           '2010', '2009', '2008'], width = [13, 4, 6, 6, 6, 4, 9, 12, 12, 12, 15, 15],\n",
        "        height=.9, color='#d9652b')\n",
        "\n",
        "ax.set_xticks(range(0,16,1))\n",
        "ax.set_xticklabels(range(0,16,1), fontsize=9, horizontalalignment='left', color='grey')\n",
        "\n",
        "ax.set_yticklabels(['2019', '2018', '2017', '2016', '2015', '2014', '2013', '2012', '2011', \n",
        "           '2010', '2009', '2008'], fontweight='light', fontsize=10)\n",
        "\n",
        "\n",
        "\n",
        "ax.set_title('Playoff Headbands are back', fontsize=13, fontweight='bold', x=0.175, y=1.2)\n",
        "\n",
        "ax.text(x=-1.56, y=14.1, s='Number of players to start at least one playoff game wearing a',\n",
        "        fontsize=10)\n",
        "\n",
        "ax.text(x=-1.56, y=13.5, s='headband, 2008-2019', fontsize='10')\n",
        "\n",
        "ax.text(x=4, y=12.25, s='Starters wearing headbands', fontsize='9', fontweight='bold')\n",
        "\n",
        "ax.text(x=-1, y=-3, s='FiveThirtyEight', fontsize='8', color='grey')\n",
        "\n",
        "ax.text(x=-1, y=-2.4, s='___________________________________________________________________________________________', fontsize='8', color='grey')\n",
        "\n",
        "fig = plt.figure(figsize=(18, 10))\n",
        "\n",
        "plt.show()"
      ],
      "execution_count": 0,
      "outputs": [
        {
          "output_type": "display_data",
          "data": {
            "image/png": "[encoded data removed]",
            "text/plain": [
              "<Figure size 432x288 with 1 Axes>"
            ]
          },
          "metadata": {
            "tags": []
          }
        },
        {
          "output_type": "display_data",
          "data": {
            "text/plain": [
              "<Figure size 1296x720 with 0 Axes>"
            ]
          },
          "metadata": {
            "tags": []
          }
        }
      ]
    },
    {
      "cell_type": "code",
      "metadata": {
        "id": "ECa9j9M5jLfk",
        "colab_type": "code",
        "outputId": "146c2fd5-e153-4a09-b37a-64693f39c015",
        "colab": {
          "base_uri": "https://localhost:8080/",
          "height": 452
        }
      },
      "source": [
        "from IPython.display import display, Image\n",
        "\n",
        "url = 'https://fivethirtyeight.com/wp-content/uploads/2019/05/planos-headbands-0524-2.png?w=575'\n",
        "example2 = Image(url=url, width=400)\n",
        "\n",
        "display(example2)"
      ],
      "execution_count": 0,
      "outputs": [
        {
          "output_type": "display_data",
          "data": {
            "text/html": [
              "<img src=\"https://fivethirtyeight.com/wp-content/uploads/2019/05/planos-headbands-0524-2.png?w=575\" width=\"400\"/>"
            ],
            "text/plain": [
              "<IPython.core.display.Image object>"
            ]
          },
          "metadata": {
            "tags": []
          }
        }
      ]
    },
    {
      "cell_type": "markdown",
      "metadata": {
        "id": "0wSrBzmJyWaV",
        "colab_type": "text"
      },
      "source": [
        "# STRETCH OPTIONS\n",
        "\n",
        "### 1) Reproduce one of the following using the matplotlib or seaborn libraries:\n",
        "\n",
        "- [thanksgiving-2015](https://fivethirtyeight.com/features/heres-what-your-part-of-america-eats-on-thanksgiving/) \n",
        "- [candy-power-ranking](https://fivethirtyeight.com/features/the-ultimate-halloween-candy-power-ranking/) \n",
        "- or another example of your choice!\n",
        "\n",
        "### 2) Make more charts!\n",
        "\n",
        "Choose a chart you want to make, from [Visual Vocabulary - Vega Edition](http://ft.com/vocabulary).\n",
        "\n",
        "Find the chart in an example gallery of a Python data visualization library:\n",
        "- [Seaborn](http://seaborn.pydata.org/examples/index.html)\n",
        "- [Altair](https://altair-viz.github.io/gallery/index.html)\n",
        "- [Matplotlib](https://matplotlib.org/gallery.html)\n",
        "- [Pandas](https://pandas.pydata.org/pandas-docs/stable/visualization.html)\n",
        "\n",
        "Reproduce the chart. [Optionally, try the \"Ben Franklin Method.\"](https://docs.google.com/document/d/1ubOw9B3Hfip27hF2ZFnW3a3z9xAgrUDRReOEo-FHCVs/edit) If you want, experiment and make changes.\n",
        "\n",
        "Take notes. Consider sharing your work with your cohort!"
      ]
    },
    {
      "cell_type": "code",
      "metadata": {
        "id": "dRJkKftiy5BJ",
        "colab_type": "code",
        "colab": {}
      },
      "source": [
        "# More Work Here"
      ],
      "execution_count": 0,
      "outputs": []
    }
  ]
}